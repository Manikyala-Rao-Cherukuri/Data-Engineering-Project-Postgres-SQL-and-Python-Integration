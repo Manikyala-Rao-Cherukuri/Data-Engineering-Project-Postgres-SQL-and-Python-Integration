{
 "cells": [
  {
   "cell_type": "markdown",
   "id": "3b96308a",
   "metadata": {},
   "source": [
    "## Data Engineering First Project"
   ]
  },
  {
   "cell_type": "markdown",
   "id": "4a35bc6d",
   "metadata": {},
   "source": [
    "### importing libraries"
   ]
  },
  {
   "cell_type": "code",
   "execution_count": 1,
   "id": "3e220c1c",
   "metadata": {},
   "outputs": [],
   "source": [
    "import psycopg2\n",
    "import pandas as pd"
   ]
  },
  {
   "cell_type": "markdown",
   "id": "d7e02bb3",
   "metadata": {},
   "source": [
    "### Create database function"
   ]
  },
  {
   "cell_type": "code",
   "execution_count": 2,
   "id": "8b4ea636",
   "metadata": {},
   "outputs": [],
   "source": [
    "def create_database():\n",
    "    conn = psycopg2.connect(\"host=127.0.0.1 dbname = postgres user = postgres password = postgres\")\n",
    "    conn.set_session(autocommit = True)\n",
    "    cur = conn.cursor()\n",
    "    \n",
    "    # create a accounts database\n",
    "    cur.execute(\"DROP DATABASE accounts\")\n",
    "    cur.execute(\"CREATE DATABASE accounts\")\n",
    "    \n",
    "    # close the connection to the default database\n",
    "    conn.close()\n",
    "    \n",
    "    # connect to the accounts database\n",
    "    conn = psycopg2.connect(\"host=127.0.0.1 dbname = accounts user = postgres password = postgres\")\n",
    "    cur = conn.cursor()\n",
    "    \n",
    "    return conn, cur"
   ]
  },
  {
   "cell_type": "markdown",
   "id": "800ac1c3",
   "metadata": {},
   "source": [
    "### create a function to drop the tables"
   ]
  },
  {
   "cell_type": "code",
   "execution_count": 3,
   "id": "af199ae0",
   "metadata": {},
   "outputs": [],
   "source": [
    "def drop_tables(cur,conn):\n",
    "    for query in drop_table_queries:\n",
    "        cur.execute(query)\n",
    "        conn.commit()"
   ]
  },
  {
   "cell_type": "markdown",
   "id": "86a884ee",
   "metadata": {},
   "source": [
    "### function to create a tables"
   ]
  },
  {
   "cell_type": "code",
   "execution_count": 4,
   "id": "733f923e",
   "metadata": {},
   "outputs": [],
   "source": [
    "def create_tables(cur,conn):\n",
    "    for query in create_table_queries:\n",
    "        cur.execute(query)\n",
    "        conn.commit()"
   ]
  },
  {
   "cell_type": "markdown",
   "id": "4a0be955",
   "metadata": {},
   "source": [
    "### Reading the Wealth-AccountsCountry.csv file"
   ]
  },
  {
   "cell_type": "code",
   "execution_count": 5,
   "id": "d533bf1a",
   "metadata": {},
   "outputs": [],
   "source": [
    "Accounts_country = pd.read_csv(\"data/Wealth-AccountsCountry.csv\")"
   ]
  },
  {
   "cell_type": "code",
   "execution_count": 6,
   "id": "b55392fe",
   "metadata": {},
   "outputs": [
    {
     "data": {
      "text/html": [
       "<div>\n",
       "<style scoped>\n",
       "    .dataframe tbody tr th:only-of-type {\n",
       "        vertical-align: middle;\n",
       "    }\n",
       "\n",
       "    .dataframe tbody tr th {\n",
       "        vertical-align: top;\n",
       "    }\n",
       "\n",
       "    .dataframe thead th {\n",
       "        text-align: right;\n",
       "    }\n",
       "</style>\n",
       "<table border=\"1\" class=\"dataframe\">\n",
       "  <thead>\n",
       "    <tr style=\"text-align: right;\">\n",
       "      <th></th>\n",
       "      <th>Code</th>\n",
       "      <th>Long Name</th>\n",
       "      <th>Income Group</th>\n",
       "      <th>Region</th>\n",
       "      <th>Lending category</th>\n",
       "      <th>Other groups</th>\n",
       "      <th>Currency Unit</th>\n",
       "      <th>Latest population census</th>\n",
       "      <th>Latest household survey</th>\n",
       "      <th>Special Notes</th>\n",
       "      <th>...</th>\n",
       "      <th>Source of most recent Income and expenditure data</th>\n",
       "      <th>Vital registration complete</th>\n",
       "      <th>Latest agricultural census</th>\n",
       "      <th>Latest industrial data</th>\n",
       "      <th>Latest trade data</th>\n",
       "      <th>Latest water withdrawal data</th>\n",
       "      <th>2-alpha code</th>\n",
       "      <th>WB-2 code</th>\n",
       "      <th>Table Name</th>\n",
       "      <th>Short Name</th>\n",
       "    </tr>\n",
       "  </thead>\n",
       "  <tbody>\n",
       "    <tr>\n",
       "      <th>0</th>\n",
       "      <td>ALB</td>\n",
       "      <td>Republic of Albania</td>\n",
       "      <td>Upper middle income</td>\n",
       "      <td>Europe &amp; Central Asia</td>\n",
       "      <td>IBRD</td>\n",
       "      <td>NaN</td>\n",
       "      <td>Albanian lek</td>\n",
       "      <td>2020 (expected)</td>\n",
       "      <td>Demographic and Health Survey, 2017/18</td>\n",
       "      <td>NaN</td>\n",
       "      <td>...</td>\n",
       "      <td>Living Standards Measurement Study Survey (LSM...</td>\n",
       "      <td>Yes</td>\n",
       "      <td>2012</td>\n",
       "      <td>2013.0</td>\n",
       "      <td>2018.0</td>\n",
       "      <td>2006.0</td>\n",
       "      <td>AL</td>\n",
       "      <td>AL</td>\n",
       "      <td>Albania</td>\n",
       "      <td>Albania</td>\n",
       "    </tr>\n",
       "    <tr>\n",
       "      <th>1</th>\n",
       "      <td>ARG</td>\n",
       "      <td>Argentine Republic</td>\n",
       "      <td>Upper middle income</td>\n",
       "      <td>Latin America &amp; Caribbean</td>\n",
       "      <td>IBRD</td>\n",
       "      <td>NaN</td>\n",
       "      <td>Argentine peso</td>\n",
       "      <td>2020 (expected)</td>\n",
       "      <td>Multiple Indicator Cluster Survey, 2019/20</td>\n",
       "      <td>NaN</td>\n",
       "      <td>...</td>\n",
       "      <td>Integrated household survey (IHS), 2016</td>\n",
       "      <td>Yes</td>\n",
       "      <td>2008</td>\n",
       "      <td>2002.0</td>\n",
       "      <td>2018.0</td>\n",
       "      <td>2011.0</td>\n",
       "      <td>AR</td>\n",
       "      <td>AR</td>\n",
       "      <td>Argentina</td>\n",
       "      <td>Argentina</td>\n",
       "    </tr>\n",
       "    <tr>\n",
       "      <th>2</th>\n",
       "      <td>ARM</td>\n",
       "      <td>Republic of Armenia</td>\n",
       "      <td>Upper middle income</td>\n",
       "      <td>Europe &amp; Central Asia</td>\n",
       "      <td>IBRD</td>\n",
       "      <td>NaN</td>\n",
       "      <td>Armenian dram</td>\n",
       "      <td>2020 (expected)</td>\n",
       "      <td>Demographic and Health Survey, 2015/16</td>\n",
       "      <td>NaN</td>\n",
       "      <td>...</td>\n",
       "      <td>Integrated household survey (IHS), 2016</td>\n",
       "      <td>Yes</td>\n",
       "      <td>2014</td>\n",
       "      <td>NaN</td>\n",
       "      <td>2018.0</td>\n",
       "      <td>2012.0</td>\n",
       "      <td>AM</td>\n",
       "      <td>AM</td>\n",
       "      <td>Armenia</td>\n",
       "      <td>Armenia</td>\n",
       "    </tr>\n",
       "    <tr>\n",
       "      <th>3</th>\n",
       "      <td>AUS</td>\n",
       "      <td>Commonwealth of Australia</td>\n",
       "      <td>High income</td>\n",
       "      <td>East Asia &amp; Pacific</td>\n",
       "      <td>NaN</td>\n",
       "      <td>NaN</td>\n",
       "      <td>Australian dollar</td>\n",
       "      <td>2016</td>\n",
       "      <td>NaN</td>\n",
       "      <td>Fiscal year end: June 30; reporting period for...</td>\n",
       "      <td>...</td>\n",
       "      <td>Expenditure survey/budget survey (ES/BS), 2010</td>\n",
       "      <td>Yes</td>\n",
       "      <td>2015-2016</td>\n",
       "      <td>2013.0</td>\n",
       "      <td>2018.0</td>\n",
       "      <td>2013.0</td>\n",
       "      <td>AU</td>\n",
       "      <td>AU</td>\n",
       "      <td>Australia</td>\n",
       "      <td>Australia</td>\n",
       "    </tr>\n",
       "    <tr>\n",
       "      <th>4</th>\n",
       "      <td>AUT</td>\n",
       "      <td>Republic of Austria</td>\n",
       "      <td>High income</td>\n",
       "      <td>Europe &amp; Central Asia</td>\n",
       "      <td>NaN</td>\n",
       "      <td>Euro area</td>\n",
       "      <td>Euro</td>\n",
       "      <td>2011. Population figures compiled from adminis...</td>\n",
       "      <td>NaN</td>\n",
       "      <td>A simple multiplier is used to convert the nat...</td>\n",
       "      <td>...</td>\n",
       "      <td>Income survey (IS), 2015</td>\n",
       "      <td>Yes</td>\n",
       "      <td>2010</td>\n",
       "      <td>2014.0</td>\n",
       "      <td>2018.0</td>\n",
       "      <td>2010.0</td>\n",
       "      <td>AT</td>\n",
       "      <td>AT</td>\n",
       "      <td>Austria</td>\n",
       "      <td>Austria</td>\n",
       "    </tr>\n",
       "  </tbody>\n",
       "</table>\n",
       "<p>5 rows × 31 columns</p>\n",
       "</div>"
      ],
      "text/plain": [
       "  Code                  Long Name         Income Group  \\\n",
       "0  ALB        Republic of Albania  Upper middle income   \n",
       "1  ARG         Argentine Republic  Upper middle income   \n",
       "2  ARM        Republic of Armenia  Upper middle income   \n",
       "3  AUS  Commonwealth of Australia          High income   \n",
       "4  AUT        Republic of Austria          High income   \n",
       "\n",
       "                      Region Lending category Other groups      Currency Unit  \\\n",
       "0      Europe & Central Asia             IBRD          NaN       Albanian lek   \n",
       "1  Latin America & Caribbean             IBRD          NaN     Argentine peso   \n",
       "2      Europe & Central Asia             IBRD          NaN      Armenian dram   \n",
       "3        East Asia & Pacific              NaN          NaN  Australian dollar   \n",
       "4      Europe & Central Asia              NaN    Euro area               Euro   \n",
       "\n",
       "                            Latest population census  \\\n",
       "0                                    2020 (expected)   \n",
       "1                                    2020 (expected)   \n",
       "2                                    2020 (expected)   \n",
       "3                                               2016   \n",
       "4  2011. Population figures compiled from adminis...   \n",
       "\n",
       "                      Latest household survey  \\\n",
       "0      Demographic and Health Survey, 2017/18   \n",
       "1  Multiple Indicator Cluster Survey, 2019/20   \n",
       "2      Demographic and Health Survey, 2015/16   \n",
       "3                                         NaN   \n",
       "4                                         NaN   \n",
       "\n",
       "                                       Special Notes  ...  \\\n",
       "0                                                NaN  ...   \n",
       "1                                                NaN  ...   \n",
       "2                                                NaN  ...   \n",
       "3  Fiscal year end: June 30; reporting period for...  ...   \n",
       "4  A simple multiplier is used to convert the nat...  ...   \n",
       "\n",
       "   Source of most recent Income and expenditure data  \\\n",
       "0  Living Standards Measurement Study Survey (LSM...   \n",
       "1            Integrated household survey (IHS), 2016   \n",
       "2            Integrated household survey (IHS), 2016   \n",
       "3     Expenditure survey/budget survey (ES/BS), 2010   \n",
       "4                           Income survey (IS), 2015   \n",
       "\n",
       "   Vital registration complete Latest agricultural census  \\\n",
       "0                          Yes                       2012   \n",
       "1                          Yes                       2008   \n",
       "2                          Yes                       2014   \n",
       "3                          Yes                  2015-2016   \n",
       "4                          Yes                       2010   \n",
       "\n",
       "  Latest industrial data Latest trade data Latest water withdrawal data  \\\n",
       "0                 2013.0            2018.0                       2006.0   \n",
       "1                 2002.0            2018.0                       2011.0   \n",
       "2                    NaN            2018.0                       2012.0   \n",
       "3                 2013.0            2018.0                       2013.0   \n",
       "4                 2014.0            2018.0                       2010.0   \n",
       "\n",
       "  2-alpha code WB-2 code Table Name Short Name  \n",
       "0           AL        AL    Albania    Albania  \n",
       "1           AR        AR  Argentina  Argentina  \n",
       "2           AM        AM    Armenia    Armenia  \n",
       "3           AU        AU  Australia  Australia  \n",
       "4           AT        AT    Austria    Austria  \n",
       "\n",
       "[5 rows x 31 columns]"
      ]
     },
     "execution_count": 6,
     "metadata": {},
     "output_type": "execute_result"
    }
   ],
   "source": [
    "Accounts_country.head()"
   ]
  },
  {
   "cell_type": "markdown",
   "id": "46ced1e5",
   "metadata": {},
   "source": [
    "### choosing few columns as required"
   ]
  },
  {
   "cell_type": "code",
   "execution_count": 7,
   "id": "54ac1e2d",
   "metadata": {},
   "outputs": [],
   "source": [
    "Accounts_country_clean = Accounts_country[['Code', 'Short Name', 'Table Name', 'Long Name', 'Currency Unit']]"
   ]
  },
  {
   "cell_type": "code",
   "execution_count": 8,
   "id": "ddc50bc4",
   "metadata": {},
   "outputs": [
    {
     "data": {
      "text/html": [
       "<div>\n",
       "<style scoped>\n",
       "    .dataframe tbody tr th:only-of-type {\n",
       "        vertical-align: middle;\n",
       "    }\n",
       "\n",
       "    .dataframe tbody tr th {\n",
       "        vertical-align: top;\n",
       "    }\n",
       "\n",
       "    .dataframe thead th {\n",
       "        text-align: right;\n",
       "    }\n",
       "</style>\n",
       "<table border=\"1\" class=\"dataframe\">\n",
       "  <thead>\n",
       "    <tr style=\"text-align: right;\">\n",
       "      <th></th>\n",
       "      <th>Code</th>\n",
       "      <th>Short Name</th>\n",
       "      <th>Table Name</th>\n",
       "      <th>Long Name</th>\n",
       "      <th>Currency Unit</th>\n",
       "    </tr>\n",
       "  </thead>\n",
       "  <tbody>\n",
       "    <tr>\n",
       "      <th>0</th>\n",
       "      <td>ALB</td>\n",
       "      <td>Albania</td>\n",
       "      <td>Albania</td>\n",
       "      <td>Republic of Albania</td>\n",
       "      <td>Albanian lek</td>\n",
       "    </tr>\n",
       "    <tr>\n",
       "      <th>1</th>\n",
       "      <td>ARG</td>\n",
       "      <td>Argentina</td>\n",
       "      <td>Argentina</td>\n",
       "      <td>Argentine Republic</td>\n",
       "      <td>Argentine peso</td>\n",
       "    </tr>\n",
       "    <tr>\n",
       "      <th>2</th>\n",
       "      <td>ARM</td>\n",
       "      <td>Armenia</td>\n",
       "      <td>Armenia</td>\n",
       "      <td>Republic of Armenia</td>\n",
       "      <td>Armenian dram</td>\n",
       "    </tr>\n",
       "    <tr>\n",
       "      <th>3</th>\n",
       "      <td>AUS</td>\n",
       "      <td>Australia</td>\n",
       "      <td>Australia</td>\n",
       "      <td>Commonwealth of Australia</td>\n",
       "      <td>Australian dollar</td>\n",
       "    </tr>\n",
       "    <tr>\n",
       "      <th>4</th>\n",
       "      <td>AUT</td>\n",
       "      <td>Austria</td>\n",
       "      <td>Austria</td>\n",
       "      <td>Republic of Austria</td>\n",
       "      <td>Euro</td>\n",
       "    </tr>\n",
       "  </tbody>\n",
       "</table>\n",
       "</div>"
      ],
      "text/plain": [
       "  Code Short Name Table Name                  Long Name      Currency Unit\n",
       "0  ALB    Albania    Albania        Republic of Albania       Albanian lek\n",
       "1  ARG  Argentina  Argentina         Argentine Republic     Argentine peso\n",
       "2  ARM    Armenia    Armenia        Republic of Armenia      Armenian dram\n",
       "3  AUS  Australia  Australia  Commonwealth of Australia  Australian dollar\n",
       "4  AUT    Austria    Austria        Republic of Austria               Euro"
      ]
     },
     "execution_count": 8,
     "metadata": {},
     "output_type": "execute_result"
    }
   ],
   "source": [
    "Accounts_country_clean.head()"
   ]
  },
  {
   "cell_type": "markdown",
   "id": "e0a5cde6",
   "metadata": {},
   "source": [
    "### Reading Wealth-AccountData.csv file"
   ]
  },
  {
   "cell_type": "code",
   "execution_count": 9,
   "id": "a53cd927",
   "metadata": {},
   "outputs": [],
   "source": [
    "Account_Data = pd.read_csv(\"data/Wealth-AccountData.csv\")"
   ]
  },
  {
   "cell_type": "code",
   "execution_count": 10,
   "id": "78915f54",
   "metadata": {},
   "outputs": [
    {
     "data": {
      "text/html": [
       "<div>\n",
       "<style scoped>\n",
       "    .dataframe tbody tr th:only-of-type {\n",
       "        vertical-align: middle;\n",
       "    }\n",
       "\n",
       "    .dataframe tbody tr th {\n",
       "        vertical-align: top;\n",
       "    }\n",
       "\n",
       "    .dataframe thead th {\n",
       "        text-align: right;\n",
       "    }\n",
       "</style>\n",
       "<table border=\"1\" class=\"dataframe\">\n",
       "  <thead>\n",
       "    <tr style=\"text-align: right;\">\n",
       "      <th></th>\n",
       "      <th>Country Name</th>\n",
       "      <th>Country Code</th>\n",
       "      <th>Series Name</th>\n",
       "      <th>Series Code</th>\n",
       "      <th>1995 [YR1995]</th>\n",
       "      <th>1996 [YR1996]</th>\n",
       "      <th>1997 [YR1997]</th>\n",
       "      <th>1998 [YR1998]</th>\n",
       "      <th>1999 [YR1999]</th>\n",
       "      <th>2000 [YR2000]</th>\n",
       "      <th>...</th>\n",
       "      <th>2009 [YR2009]</th>\n",
       "      <th>2010 [YR2010]</th>\n",
       "      <th>2011 [YR2011]</th>\n",
       "      <th>2012 [YR2012]</th>\n",
       "      <th>2013 [YR2013]</th>\n",
       "      <th>2014 [YR2014]</th>\n",
       "      <th>2015 [YR2015]</th>\n",
       "      <th>2016 [YR2016]</th>\n",
       "      <th>2017 [YR2017]</th>\n",
       "      <th>2018 [YR2018]</th>\n",
       "    </tr>\n",
       "  </thead>\n",
       "  <tbody>\n",
       "    <tr>\n",
       "      <th>0</th>\n",
       "      <td>Albania</td>\n",
       "      <td>ALB</td>\n",
       "      <td>Human capital (constant 2018 US$)</td>\n",
       "      <td>NW.HCA.TO</td>\n",
       "      <td>44900000000.00</td>\n",
       "      <td>43400000000.00</td>\n",
       "      <td>37100000000.00</td>\n",
       "      <td>38800000000.00</td>\n",
       "      <td>42200000000.00</td>\n",
       "      <td>43600000000.00</td>\n",
       "      <td>...</td>\n",
       "      <td>6.610000e+10</td>\n",
       "      <td>6.810000e+10</td>\n",
       "      <td>6.850000e+10</td>\n",
       "      <td>7.080000e+10</td>\n",
       "      <td>7.160000e+10</td>\n",
       "      <td>7.250000e+10</td>\n",
       "      <td>7.370000e+10</td>\n",
       "      <td>75700000000.00</td>\n",
       "      <td>78000000000.00</td>\n",
       "      <td>81200000000.00</td>\n",
       "    </tr>\n",
       "    <tr>\n",
       "      <th>1</th>\n",
       "      <td>Albania</td>\n",
       "      <td>ALB</td>\n",
       "      <td>Human capital per capita (constant 2018 US$)</td>\n",
       "      <td>NW.HCA.PC</td>\n",
       "      <td>14072.79</td>\n",
       "      <td>13708.99</td>\n",
       "      <td>11794.10</td>\n",
       "      <td>12399.48</td>\n",
       "      <td>13573.26</td>\n",
       "      <td>14118.13</td>\n",
       "      <td>...</td>\n",
       "      <td>2.258200e+04</td>\n",
       "      <td>2.336286e+04</td>\n",
       "      <td>2.359058e+04</td>\n",
       "      <td>2.439397e+04</td>\n",
       "      <td>2.473162e+04</td>\n",
       "      <td>2.509002e+04</td>\n",
       "      <td>2.559371e+04</td>\n",
       "      <td>26326.26</td>\n",
       "      <td>27160.86</td>\n",
       "      <td>28333.68</td>\n",
       "    </tr>\n",
       "    <tr>\n",
       "      <th>2</th>\n",
       "      <td>Albania</td>\n",
       "      <td>ALB</td>\n",
       "      <td>Human capital per capita, employed female (con...</td>\n",
       "      <td>NW.HCA.FEMP.PC</td>\n",
       "      <td>3468.86</td>\n",
       "      <td>3355.55</td>\n",
       "      <td>2869.00</td>\n",
       "      <td>3013.39</td>\n",
       "      <td>3259.89</td>\n",
       "      <td>3424.01</td>\n",
       "      <td>...</td>\n",
       "      <td>2.825340e+03</td>\n",
       "      <td>2.889150e+03</td>\n",
       "      <td>2.848520e+03</td>\n",
       "      <td>2.930230e+03</td>\n",
       "      <td>2.954270e+03</td>\n",
       "      <td>2.957420e+03</td>\n",
       "      <td>2.987550e+03</td>\n",
       "      <td>3072.50</td>\n",
       "      <td>3178.42</td>\n",
       "      <td>3312.93</td>\n",
       "    </tr>\n",
       "    <tr>\n",
       "      <th>3</th>\n",
       "      <td>Albania</td>\n",
       "      <td>ALB</td>\n",
       "      <td>Human capital per capita, employed male (const...</td>\n",
       "      <td>NW.HCA.MEMP.PC</td>\n",
       "      <td>6507.93</td>\n",
       "      <td>6353.74</td>\n",
       "      <td>5466.69</td>\n",
       "      <td>5901.07</td>\n",
       "      <td>6492.73</td>\n",
       "      <td>6872.02</td>\n",
       "      <td>...</td>\n",
       "      <td>1.525319e+04</td>\n",
       "      <td>1.578992e+04</td>\n",
       "      <td>1.579854e+04</td>\n",
       "      <td>1.647360e+04</td>\n",
       "      <td>1.681013e+04</td>\n",
       "      <td>1.699138e+04</td>\n",
       "      <td>1.730701e+04</td>\n",
       "      <td>17817.10</td>\n",
       "      <td>18445.94</td>\n",
       "      <td>19245.19</td>\n",
       "    </tr>\n",
       "    <tr>\n",
       "      <th>4</th>\n",
       "      <td>Albania</td>\n",
       "      <td>ALB</td>\n",
       "      <td>Human capital per capita, female (constant 201...</td>\n",
       "      <td>NW.HCA.FEMA.PC</td>\n",
       "      <td>4893.01</td>\n",
       "      <td>4737.86</td>\n",
       "      <td>4059.32</td>\n",
       "      <td>4191.45</td>\n",
       "      <td>4536.97</td>\n",
       "      <td>4695.07</td>\n",
       "      <td>...</td>\n",
       "      <td>3.529140e+03</td>\n",
       "      <td>3.613610e+03</td>\n",
       "      <td>3.603690e+03</td>\n",
       "      <td>3.683810e+03</td>\n",
       "      <td>3.696740e+03</td>\n",
       "      <td>3.719610e+03</td>\n",
       "      <td>3.767630e+03</td>\n",
       "      <td>3872.14</td>\n",
       "      <td>3992.19</td>\n",
       "      <td>4161.14</td>\n",
       "    </tr>\n",
       "  </tbody>\n",
       "</table>\n",
       "<p>5 rows × 28 columns</p>\n",
       "</div>"
      ],
      "text/plain": [
       "  Country Name Country Code  \\\n",
       "0      Albania          ALB   \n",
       "1      Albania          ALB   \n",
       "2      Albania          ALB   \n",
       "3      Albania          ALB   \n",
       "4      Albania          ALB   \n",
       "\n",
       "                                         Series Name     Series Code  \\\n",
       "0                  Human capital (constant 2018 US$)       NW.HCA.TO   \n",
       "1       Human capital per capita (constant 2018 US$)       NW.HCA.PC   \n",
       "2  Human capital per capita, employed female (con...  NW.HCA.FEMP.PC   \n",
       "3  Human capital per capita, employed male (const...  NW.HCA.MEMP.PC   \n",
       "4  Human capital per capita, female (constant 201...  NW.HCA.FEMA.PC   \n",
       "\n",
       "    1995 [YR1995]   1996 [YR1996]   1997 [YR1997]   1998 [YR1998]  \\\n",
       "0  44900000000.00  43400000000.00  37100000000.00  38800000000.00   \n",
       "1        14072.79        13708.99        11794.10        12399.48   \n",
       "2         3468.86         3355.55         2869.00         3013.39   \n",
       "3         6507.93         6353.74         5466.69         5901.07   \n",
       "4         4893.01         4737.86         4059.32         4191.45   \n",
       "\n",
       "    1999 [YR1999]   2000 [YR2000]  ... 2009 [YR2009] 2010 [YR2010]  \\\n",
       "0  42200000000.00  43600000000.00  ...  6.610000e+10  6.810000e+10   \n",
       "1        13573.26        14118.13  ...  2.258200e+04  2.336286e+04   \n",
       "2         3259.89         3424.01  ...  2.825340e+03  2.889150e+03   \n",
       "3         6492.73         6872.02  ...  1.525319e+04  1.578992e+04   \n",
       "4         4536.97         4695.07  ...  3.529140e+03  3.613610e+03   \n",
       "\n",
       "  2011 [YR2011] 2012 [YR2012]  2013 [YR2013]  2014 [YR2014]  2015 [YR2015]  \\\n",
       "0  6.850000e+10  7.080000e+10   7.160000e+10   7.250000e+10   7.370000e+10   \n",
       "1  2.359058e+04  2.439397e+04   2.473162e+04   2.509002e+04   2.559371e+04   \n",
       "2  2.848520e+03  2.930230e+03   2.954270e+03   2.957420e+03   2.987550e+03   \n",
       "3  1.579854e+04  1.647360e+04   1.681013e+04   1.699138e+04   1.730701e+04   \n",
       "4  3.603690e+03  3.683810e+03   3.696740e+03   3.719610e+03   3.767630e+03   \n",
       "\n",
       "    2016 [YR2016]   2017 [YR2017]   2018 [YR2018]  \n",
       "0  75700000000.00  78000000000.00  81200000000.00  \n",
       "1        26326.26        27160.86        28333.68  \n",
       "2         3072.50         3178.42         3312.93  \n",
       "3        17817.10        18445.94        19245.19  \n",
       "4         3872.14         3992.19         4161.14  \n",
       "\n",
       "[5 rows x 28 columns]"
      ]
     },
     "execution_count": 10,
     "metadata": {},
     "output_type": "execute_result"
    }
   ],
   "source": [
    "Account_Data.head()"
   ]
  },
  {
   "cell_type": "markdown",
   "id": "f9a58b93",
   "metadata": {},
   "source": [
    "### printing the column name"
   ]
  },
  {
   "cell_type": "code",
   "execution_count": 11,
   "id": "9b829c6e",
   "metadata": {},
   "outputs": [
    {
     "data": {
      "text/plain": [
       "Index(['Country Name', 'Country Code', 'Series Name', 'Series Code',\n",
       "       '1995 [YR1995]', '1996 [YR1996]', '1997 [YR1997]', '1998 [YR1998]',\n",
       "       '1999 [YR1999]', '2000 [YR2000]', '2001 [YR2001]', '2002 [YR2002]',\n",
       "       '2003 [YR2003]', '2004 [YR2004]', '2005 [YR2005]', '2006 [YR2006]',\n",
       "       '2007 [YR2007]', '2008 [YR2008]', '2009 [YR2009]', '2010 [YR2010]',\n",
       "       '2011 [YR2011]', '2012 [YR2012]', '2013 [YR2013]', '2014 [YR2014]',\n",
       "       '2015 [YR2015]', '2016 [YR2016]', '2017 [YR2017]', '2018 [YR2018]'],\n",
       "      dtype='object')"
      ]
     },
     "execution_count": 11,
     "metadata": {},
     "output_type": "execute_result"
    }
   ],
   "source": [
    "Account_Data.columns"
   ]
  },
  {
   "cell_type": "code",
   "execution_count": 12,
   "id": "a3a32c5d",
   "metadata": {
    "scrolled": true
   },
   "outputs": [
    {
     "data": {
      "text/html": [
       "<div>\n",
       "<style scoped>\n",
       "    .dataframe tbody tr th:only-of-type {\n",
       "        vertical-align: middle;\n",
       "    }\n",
       "\n",
       "    .dataframe tbody tr th {\n",
       "        vertical-align: top;\n",
       "    }\n",
       "\n",
       "    .dataframe thead th {\n",
       "        text-align: right;\n",
       "    }\n",
       "</style>\n",
       "<table border=\"1\" class=\"dataframe\">\n",
       "  <thead>\n",
       "    <tr style=\"text-align: right;\">\n",
       "      <th></th>\n",
       "      <th>Country Name</th>\n",
       "      <th>Country Code</th>\n",
       "      <th>Series Name</th>\n",
       "      <th>Series Code</th>\n",
       "      <th>1995 [YR1995]</th>\n",
       "      <th>2000 [YR2000]</th>\n",
       "      <th>2005 [YR2005]</th>\n",
       "      <th>2010 [YR2010]</th>\n",
       "      <th>2015 [YR2015]</th>\n",
       "    </tr>\n",
       "  </thead>\n",
       "  <tbody>\n",
       "    <tr>\n",
       "      <th>0</th>\n",
       "      <td>Albania</td>\n",
       "      <td>ALB</td>\n",
       "      <td>Human capital (constant 2018 US$)</td>\n",
       "      <td>NW.HCA.TO</td>\n",
       "      <td>44900000000.00</td>\n",
       "      <td>43600000000.00</td>\n",
       "      <td>5.440000e+10</td>\n",
       "      <td>6.810000e+10</td>\n",
       "      <td>7.370000e+10</td>\n",
       "    </tr>\n",
       "    <tr>\n",
       "      <th>1</th>\n",
       "      <td>Albania</td>\n",
       "      <td>ALB</td>\n",
       "      <td>Human capital per capita (constant 2018 US$)</td>\n",
       "      <td>NW.HCA.PC</td>\n",
       "      <td>14072.79</td>\n",
       "      <td>14118.13</td>\n",
       "      <td>1.807230e+04</td>\n",
       "      <td>2.336286e+04</td>\n",
       "      <td>2.559371e+04</td>\n",
       "    </tr>\n",
       "    <tr>\n",
       "      <th>2</th>\n",
       "      <td>Albania</td>\n",
       "      <td>ALB</td>\n",
       "      <td>Human capital per capita, employed female (con...</td>\n",
       "      <td>NW.HCA.FEMP.PC</td>\n",
       "      <td>3468.86</td>\n",
       "      <td>3424.01</td>\n",
       "      <td>2.222120e+03</td>\n",
       "      <td>2.889150e+03</td>\n",
       "      <td>2.987550e+03</td>\n",
       "    </tr>\n",
       "    <tr>\n",
       "      <th>3</th>\n",
       "      <td>Albania</td>\n",
       "      <td>ALB</td>\n",
       "      <td>Human capital per capita, employed male (const...</td>\n",
       "      <td>NW.HCA.MEMP.PC</td>\n",
       "      <td>6507.93</td>\n",
       "      <td>6872.02</td>\n",
       "      <td>1.168935e+04</td>\n",
       "      <td>1.578992e+04</td>\n",
       "      <td>1.730701e+04</td>\n",
       "    </tr>\n",
       "    <tr>\n",
       "      <th>4</th>\n",
       "      <td>Albania</td>\n",
       "      <td>ALB</td>\n",
       "      <td>Human capital per capita, female (constant 201...</td>\n",
       "      <td>NW.HCA.FEMA.PC</td>\n",
       "      <td>4893.01</td>\n",
       "      <td>4695.07</td>\n",
       "      <td>2.886740e+03</td>\n",
       "      <td>3.613610e+03</td>\n",
       "      <td>3.767630e+03</td>\n",
       "    </tr>\n",
       "  </tbody>\n",
       "</table>\n",
       "</div>"
      ],
      "text/plain": [
       "  Country Name Country Code  \\\n",
       "0      Albania          ALB   \n",
       "1      Albania          ALB   \n",
       "2      Albania          ALB   \n",
       "3      Albania          ALB   \n",
       "4      Albania          ALB   \n",
       "\n",
       "                                         Series Name     Series Code  \\\n",
       "0                  Human capital (constant 2018 US$)       NW.HCA.TO   \n",
       "1       Human capital per capita (constant 2018 US$)       NW.HCA.PC   \n",
       "2  Human capital per capita, employed female (con...  NW.HCA.FEMP.PC   \n",
       "3  Human capital per capita, employed male (const...  NW.HCA.MEMP.PC   \n",
       "4  Human capital per capita, female (constant 201...  NW.HCA.FEMA.PC   \n",
       "\n",
       "    1995 [YR1995]   2000 [YR2000]  2005 [YR2005]  2010 [YR2010]  2015 [YR2015]  \n",
       "0  44900000000.00  43600000000.00   5.440000e+10   6.810000e+10   7.370000e+10  \n",
       "1        14072.79        14118.13   1.807230e+04   2.336286e+04   2.559371e+04  \n",
       "2         3468.86         3424.01   2.222120e+03   2.889150e+03   2.987550e+03  \n",
       "3         6507.93         6872.02   1.168935e+04   1.578992e+04   1.730701e+04  \n",
       "4         4893.01         4695.07   2.886740e+03   3.613610e+03   3.767630e+03  "
      ]
     },
     "execution_count": 12,
     "metadata": {},
     "output_type": "execute_result"
    }
   ],
   "source": [
    "AccountsData = Account_Data[['Country Name', 'Country Code', 'Series Name','Series Code', '1995 [YR1995]','2000 [YR2000]','2005 [YR2005]','2010 [YR2010]','2015 [YR2015]']]\n",
    "AccountsData.head()"
   ]
  },
  {
   "cell_type": "code",
   "execution_count": 13,
   "id": "0de7aa7c",
   "metadata": {},
   "outputs": [
    {
     "name": "stdout",
     "output_type": "stream",
     "text": [
      "Country Name      0\n",
      "Country Code      0\n",
      "Series Name       0\n",
      "Series Code       0\n",
      "1995 [YR1995]    10\n",
      "2000 [YR2000]     2\n",
      "2005 [YR2005]     0\n",
      "2010 [YR2010]     0\n",
      "2015 [YR2015]     0\n",
      "dtype: int64\n"
     ]
    },
    {
     "name": "stderr",
     "output_type": "stream",
     "text": [
      "C:\\Users\\91954\\AppData\\Local\\Temp/ipykernel_33912/3618610193.py:4: FutureWarning: The pandas.np module is deprecated and will be removed from pandas in a future version. Import numpy directly instead.\n",
      "  AccountsData = AccountsData.replace(\"..\", pd.np.nan)\n"
     ]
    }
   ],
   "source": [
    "import pandas as pd\n",
    "\n",
    "# replace all occurrences of \"..\" with NaN\n",
    "AccountsData = AccountsData.replace(\"..\", pd.np.nan)\n",
    "\n",
    "# check for any NaN values in the dataframe\n",
    "print(AccountsData.isna().sum())"
   ]
  },
  {
   "cell_type": "code",
   "execution_count": 14,
   "id": "817cd1dd",
   "metadata": {},
   "outputs": [
    {
     "data": {
      "text/html": [
       "<div>\n",
       "<style scoped>\n",
       "    .dataframe tbody tr th:only-of-type {\n",
       "        vertical-align: middle;\n",
       "    }\n",
       "\n",
       "    .dataframe tbody tr th {\n",
       "        vertical-align: top;\n",
       "    }\n",
       "\n",
       "    .dataframe thead th {\n",
       "        text-align: right;\n",
       "    }\n",
       "</style>\n",
       "<table border=\"1\" class=\"dataframe\">\n",
       "  <thead>\n",
       "    <tr style=\"text-align: right;\">\n",
       "      <th></th>\n",
       "      <th>Country Name</th>\n",
       "      <th>Country Code</th>\n",
       "      <th>Series Name</th>\n",
       "      <th>Series Code</th>\n",
       "      <th>1995 [YR1995]</th>\n",
       "      <th>2000 [YR2000]</th>\n",
       "      <th>2005 [YR2005]</th>\n",
       "      <th>2010 [YR2010]</th>\n",
       "      <th>2015 [YR2015]</th>\n",
       "    </tr>\n",
       "  </thead>\n",
       "  <tbody>\n",
       "    <tr>\n",
       "      <th>0</th>\n",
       "      <td>Albania</td>\n",
       "      <td>ALB</td>\n",
       "      <td>Human capital (constant 2018 US$)</td>\n",
       "      <td>NW.HCA.TO</td>\n",
       "      <td>44900000000.00</td>\n",
       "      <td>43600000000.00</td>\n",
       "      <td>5.440000e+10</td>\n",
       "      <td>6.810000e+10</td>\n",
       "      <td>7.370000e+10</td>\n",
       "    </tr>\n",
       "    <tr>\n",
       "      <th>1</th>\n",
       "      <td>Albania</td>\n",
       "      <td>ALB</td>\n",
       "      <td>Human capital per capita (constant 2018 US$)</td>\n",
       "      <td>NW.HCA.PC</td>\n",
       "      <td>14072.79</td>\n",
       "      <td>14118.13</td>\n",
       "      <td>1.807230e+04</td>\n",
       "      <td>2.336286e+04</td>\n",
       "      <td>2.559371e+04</td>\n",
       "    </tr>\n",
       "    <tr>\n",
       "      <th>2</th>\n",
       "      <td>Albania</td>\n",
       "      <td>ALB</td>\n",
       "      <td>Human capital per capita, employed female (con...</td>\n",
       "      <td>NW.HCA.FEMP.PC</td>\n",
       "      <td>3468.86</td>\n",
       "      <td>3424.01</td>\n",
       "      <td>2.222120e+03</td>\n",
       "      <td>2.889150e+03</td>\n",
       "      <td>2.987550e+03</td>\n",
       "    </tr>\n",
       "    <tr>\n",
       "      <th>3</th>\n",
       "      <td>Albania</td>\n",
       "      <td>ALB</td>\n",
       "      <td>Human capital per capita, employed male (const...</td>\n",
       "      <td>NW.HCA.MEMP.PC</td>\n",
       "      <td>6507.93</td>\n",
       "      <td>6872.02</td>\n",
       "      <td>1.168935e+04</td>\n",
       "      <td>1.578992e+04</td>\n",
       "      <td>1.730701e+04</td>\n",
       "    </tr>\n",
       "    <tr>\n",
       "      <th>4</th>\n",
       "      <td>Albania</td>\n",
       "      <td>ALB</td>\n",
       "      <td>Human capital per capita, female (constant 201...</td>\n",
       "      <td>NW.HCA.FEMA.PC</td>\n",
       "      <td>4893.01</td>\n",
       "      <td>4695.07</td>\n",
       "      <td>2.886740e+03</td>\n",
       "      <td>3.613610e+03</td>\n",
       "      <td>3.767630e+03</td>\n",
       "    </tr>\n",
       "  </tbody>\n",
       "</table>\n",
       "</div>"
      ],
      "text/plain": [
       "  Country Name Country Code  \\\n",
       "0      Albania          ALB   \n",
       "1      Albania          ALB   \n",
       "2      Albania          ALB   \n",
       "3      Albania          ALB   \n",
       "4      Albania          ALB   \n",
       "\n",
       "                                         Series Name     Series Code  \\\n",
       "0                  Human capital (constant 2018 US$)       NW.HCA.TO   \n",
       "1       Human capital per capita (constant 2018 US$)       NW.HCA.PC   \n",
       "2  Human capital per capita, employed female (con...  NW.HCA.FEMP.PC   \n",
       "3  Human capital per capita, employed male (const...  NW.HCA.MEMP.PC   \n",
       "4  Human capital per capita, female (constant 201...  NW.HCA.FEMA.PC   \n",
       "\n",
       "    1995 [YR1995]   2000 [YR2000]  2005 [YR2005]  2010 [YR2010]  2015 [YR2015]  \n",
       "0  44900000000.00  43600000000.00   5.440000e+10   6.810000e+10   7.370000e+10  \n",
       "1        14072.79        14118.13   1.807230e+04   2.336286e+04   2.559371e+04  \n",
       "2         3468.86         3424.01   2.222120e+03   2.889150e+03   2.987550e+03  \n",
       "3         6507.93         6872.02   1.168935e+04   1.578992e+04   1.730701e+04  \n",
       "4         4893.01         4695.07   2.886740e+03   3.613610e+03   3.767630e+03  "
      ]
     },
     "execution_count": 14,
     "metadata": {},
     "output_type": "execute_result"
    }
   ],
   "source": [
    "AccountsData.head()"
   ]
  },
  {
   "cell_type": "markdown",
   "id": "47bc2d8f",
   "metadata": {},
   "source": [
    "### reading Wealth-AccountSeries.csv file"
   ]
  },
  {
   "cell_type": "code",
   "execution_count": 15,
   "id": "9e481634",
   "metadata": {},
   "outputs": [],
   "source": [
    "Account_Serices = pd.read_csv(\"data/Wealth-AccountSeries.csv\")"
   ]
  },
  {
   "cell_type": "code",
   "execution_count": 16,
   "id": "13ff3ab2",
   "metadata": {},
   "outputs": [
    {
     "data": {
      "text/plain": [
       "Index(['Code', 'Indicator Name', 'Long definition', 'Source', 'Topic',\n",
       "       'Unit of measure', 'Periodicity', 'Reference period',\n",
       "       'Statistical concept and methodology', 'Previous Indicator Code',\n",
       "       'Previous Indicator Name'],\n",
       "      dtype='object')"
      ]
     },
     "execution_count": 16,
     "metadata": {},
     "output_type": "execute_result"
    }
   ],
   "source": [
    "Account_Serices.columns"
   ]
  },
  {
   "cell_type": "code",
   "execution_count": 17,
   "id": "d0a16627",
   "metadata": {},
   "outputs": [],
   "source": [
    "AccountsSerices = Account_Serices[['Code', 'Topic', 'Indicator Name', 'Long definition']]"
   ]
  },
  {
   "cell_type": "code",
   "execution_count": 18,
   "id": "c4ae951b",
   "metadata": {},
   "outputs": [
    {
     "data": {
      "text/html": [
       "<div>\n",
       "<style scoped>\n",
       "    .dataframe tbody tr th:only-of-type {\n",
       "        vertical-align: middle;\n",
       "    }\n",
       "\n",
       "    .dataframe tbody tr th {\n",
       "        vertical-align: top;\n",
       "    }\n",
       "\n",
       "    .dataframe thead th {\n",
       "        text-align: right;\n",
       "    }\n",
       "</style>\n",
       "<table border=\"1\" class=\"dataframe\">\n",
       "  <thead>\n",
       "    <tr style=\"text-align: right;\">\n",
       "      <th></th>\n",
       "      <th>Code</th>\n",
       "      <th>Topic</th>\n",
       "      <th>Indicator Name</th>\n",
       "      <th>Long definition</th>\n",
       "    </tr>\n",
       "  </thead>\n",
       "  <tbody>\n",
       "    <tr>\n",
       "      <th>0</th>\n",
       "      <td>NW.HCA.TO</td>\n",
       "      <td>Human capital</td>\n",
       "      <td>Human capital (constant 2018 US$)</td>\n",
       "      <td>Human capital is computed as the present value...</td>\n",
       "    </tr>\n",
       "    <tr>\n",
       "      <th>1</th>\n",
       "      <td>NW.HCA.PC</td>\n",
       "      <td>Human capital</td>\n",
       "      <td>Human capital per capita (constant 2018 US$)</td>\n",
       "      <td>Human capital is computed as the present value...</td>\n",
       "    </tr>\n",
       "    <tr>\n",
       "      <th>2</th>\n",
       "      <td>NW.HCA.FEMP.PC</td>\n",
       "      <td>Human capital</td>\n",
       "      <td>Human capital per capita, employed female (con...</td>\n",
       "      <td>Human capital is computed as the present value...</td>\n",
       "    </tr>\n",
       "    <tr>\n",
       "      <th>3</th>\n",
       "      <td>NW.HCA.MEMP.PC</td>\n",
       "      <td>Human capital</td>\n",
       "      <td>Human capital per capita, employed male (const...</td>\n",
       "      <td>Human capital is computed as the present value...</td>\n",
       "    </tr>\n",
       "    <tr>\n",
       "      <th>4</th>\n",
       "      <td>NW.HCA.FEMA.PC</td>\n",
       "      <td>Human capital</td>\n",
       "      <td>Human capital per capita, female (constant 201...</td>\n",
       "      <td>Human capital is computed as the present value...</td>\n",
       "    </tr>\n",
       "  </tbody>\n",
       "</table>\n",
       "</div>"
      ],
      "text/plain": [
       "             Code          Topic  \\\n",
       "0       NW.HCA.TO  Human capital   \n",
       "1       NW.HCA.PC  Human capital   \n",
       "2  NW.HCA.FEMP.PC  Human capital   \n",
       "3  NW.HCA.MEMP.PC  Human capital   \n",
       "4  NW.HCA.FEMA.PC  Human capital   \n",
       "\n",
       "                                      Indicator Name  \\\n",
       "0                  Human capital (constant 2018 US$)   \n",
       "1       Human capital per capita (constant 2018 US$)   \n",
       "2  Human capital per capita, employed female (con...   \n",
       "3  Human capital per capita, employed male (const...   \n",
       "4  Human capital per capita, female (constant 201...   \n",
       "\n",
       "                                     Long definition  \n",
       "0  Human capital is computed as the present value...  \n",
       "1  Human capital is computed as the present value...  \n",
       "2  Human capital is computed as the present value...  \n",
       "3  Human capital is computed as the present value...  \n",
       "4  Human capital is computed as the present value...  "
      ]
     },
     "execution_count": 18,
     "metadata": {},
     "output_type": "execute_result"
    }
   ],
   "source": [
    "AccountsSerices.head()"
   ]
  },
  {
   "cell_type": "markdown",
   "id": "6a021252",
   "metadata": {},
   "source": [
    "### calling create_database function"
   ]
  },
  {
   "cell_type": "code",
   "execution_count": 19,
   "id": "0dd59b0b",
   "metadata": {},
   "outputs": [],
   "source": [
    "conn, cur = create_database()"
   ]
  },
  {
   "cell_type": "markdown",
   "id": "1df2f695",
   "metadata": {},
   "source": [
    "### accountscountry table creation"
   ]
  },
  {
   "cell_type": "code",
   "execution_count": 20,
   "id": "7985cb47",
   "metadata": {},
   "outputs": [],
   "source": [
    "accounts_country_table_create = (\"\"\"CREATE TABLE IF NOT EXISTS accountscountry(\n",
    "country_code VARCHAR,\n",
    "short_name VARCHAR,\n",
    "table_name VARCHAR,\n",
    "long_name VARCHAR,\n",
    "currency_unit VARCHAR\n",
    ")\"\"\")"
   ]
  },
  {
   "cell_type": "code",
   "execution_count": 21,
   "id": "dfed7271",
   "metadata": {},
   "outputs": [],
   "source": [
    "cur.execute(accounts_country_table_create)\n",
    "conn.commit()"
   ]
  },
  {
   "cell_type": "markdown",
   "id": "1f5a7ffd",
   "metadata": {},
   "source": [
    "### create accounts_data table"
   ]
  },
  {
   "cell_type": "code",
   "execution_count": 22,
   "id": "c7033252",
   "metadata": {},
   "outputs": [],
   "source": [
    "accounts_data_table_create = (\"\"\"CREATE TABLE IF NOT EXISTS accountsdata(\n",
    "country_name VARCHAR,\n",
    "country_code VARCHAR,\n",
    "indicator_name VARCHAR,\n",
    "indicator_code VARCHAR,\n",
    "year_1995 decimal,\n",
    "year_2000 decimal,\n",
    "year_2005 decimal,\n",
    "year_2010 decimal,\n",
    "year_2015 decimal\n",
    ")\"\"\")"
   ]
  },
  {
   "cell_type": "code",
   "execution_count": 23,
   "id": "ebc73a9c",
   "metadata": {},
   "outputs": [],
   "source": [
    "cur.execute(accounts_data_table_create)\n",
    "conn.commit()"
   ]
  },
  {
   "cell_type": "markdown",
   "id": "7bb2d290",
   "metadata": {},
   "source": [
    "### create accounts_series table"
   ]
  },
  {
   "cell_type": "code",
   "execution_count": 24,
   "id": "4958ba83",
   "metadata": {},
   "outputs": [],
   "source": [
    "accountsserices_data_table_create = (\"\"\"CREATE TABLE IF NOT EXISTS accountsseries(\n",
    "series_code VARCHAR,\n",
    "topic VARCHAR,\n",
    "indicator_name VARCHAR,\n",
    "long_definition VARCHAR\n",
    ")\"\"\")\n",
    "\n",
    "cur.execute(accountsserices_data_table_create)\n",
    "conn.commit()"
   ]
  },
  {
   "cell_type": "markdown",
   "id": "dbbeeece",
   "metadata": {},
   "source": [
    "### Inserting the data into accountscountry table"
   ]
  },
  {
   "cell_type": "code",
   "execution_count": 25,
   "id": "f75c59ac",
   "metadata": {},
   "outputs": [],
   "source": [
    "accounts_country_table_data_insert = (\"\"\"INSERT INTO accountscountry(\n",
    "country_code,\n",
    "short_name,\n",
    "table_name,\n",
    "long_name,\n",
    "currency_unit) VALUES (%s,%s,%s,%s,%s)\n",
    "\"\"\");"
   ]
  },
  {
   "cell_type": "code",
   "execution_count": 26,
   "id": "95104bb7",
   "metadata": {},
   "outputs": [],
   "source": [
    "for i, row in Accounts_country_clean.iterrows():\n",
    "    #print(list(row))\n",
    "    cur.execute(accounts_country_table_data_insert, list(row))"
   ]
  },
  {
   "cell_type": "code",
   "execution_count": 27,
   "id": "ba97425c",
   "metadata": {},
   "outputs": [],
   "source": [
    "conn.commit()"
   ]
  },
  {
   "cell_type": "markdown",
   "id": "c8b787db",
   "metadata": {},
   "source": [
    "### inserting data into accountsdata table"
   ]
  },
  {
   "cell_type": "code",
   "execution_count": 28,
   "id": "891dbdef",
   "metadata": {},
   "outputs": [],
   "source": [
    "accounts_data_table_insert = (\"\"\"INSERT INTO accountsdata(\n",
    "country_name,\n",
    "country_code,\n",
    "indicator_name,\n",
    "indicator_code,\n",
    "year_1995,\n",
    "year_2000,\n",
    "year_2005,\n",
    "year_2010,\n",
    "year_2015) VALUES (%s,%s,%s,%s,%s,%s,%s,%s,%s)\n",
    "\"\"\");"
   ]
  },
  {
   "cell_type": "code",
   "execution_count": 29,
   "id": "50648168",
   "metadata": {},
   "outputs": [],
   "source": [
    "for i, row in AccountsData.iterrows():\n",
    "    cur.execute(accounts_data_table_insert, list(row))"
   ]
  },
  {
   "cell_type": "code",
   "execution_count": 30,
   "id": "98da6d8a",
   "metadata": {},
   "outputs": [],
   "source": [
    "conn.commit()"
   ]
  },
  {
   "cell_type": "markdown",
   "id": "cfa7eead",
   "metadata": {},
   "source": [
    "### inserting data into accountsseries table"
   ]
  },
  {
   "cell_type": "code",
   "execution_count": 31,
   "id": "20e35208",
   "metadata": {},
   "outputs": [],
   "source": [
    "accounts_series_table_data_insert = (\"\"\"INSERT INTO accountsseries(\n",
    "series_code,\n",
    "topic,\n",
    "indicator_name,\n",
    "long_definition) VALUES (%s,%s,%s,%s)\n",
    "\"\"\");"
   ]
  },
  {
   "cell_type": "code",
   "execution_count": 32,
   "id": "5e3177c8",
   "metadata": {},
   "outputs": [],
   "source": [
    "for i, row in AccountsSerices.iterrows():\n",
    "    cur.execute(accounts_series_table_data_insert, list(row))"
   ]
  },
  {
   "cell_type": "code",
   "execution_count": 33,
   "id": "84512b50",
   "metadata": {},
   "outputs": [],
   "source": [
    "conn.commit()"
   ]
  },
  {
   "cell_type": "code",
   "execution_count": 34,
   "id": "ed33924d",
   "metadata": {},
   "outputs": [],
   "source": [
    "cur.execute(\"select * from accountsseries\")"
   ]
  },
  {
   "cell_type": "code",
   "execution_count": 35,
   "id": "f8508ba8",
   "metadata": {},
   "outputs": [],
   "source": [
    "cur.close()"
   ]
  },
  {
   "cell_type": "code",
   "execution_count": 36,
   "id": "26e5a19c",
   "metadata": {},
   "outputs": [],
   "source": [
    "conn.close()"
   ]
  },
  {
   "cell_type": "code",
   "execution_count": null,
   "id": "d935d4d7",
   "metadata": {},
   "outputs": [],
   "source": []
  }
 ],
 "metadata": {
  "kernelspec": {
   "display_name": "Python 3 (ipykernel)",
   "language": "python",
   "name": "python3"
  },
  "language_info": {
   "codemirror_mode": {
    "name": "ipython",
    "version": 3
   },
   "file_extension": ".py",
   "mimetype": "text/x-python",
   "name": "python",
   "nbconvert_exporter": "python",
   "pygments_lexer": "ipython3",
   "version": "3.9.7"
  }
 },
 "nbformat": 4,
 "nbformat_minor": 5
}
